{
 "cells": [
  {
   "cell_type": "markdown",
   "metadata": {},
   "source": [
    "# Now You Code 4: Syracuse Weather\n",
    "\n",
    "Write a program to load the Syracuse weather data from Dec 2015 in\n",
    "JSON format into a Python list of dictionary. \n",
    "\n",
    "The file with the weather data is in your `Now-You-Code` folder: `\"NYC4-syr-weather-dec-2015.json\"`\n",
    "\n",
    "You should load this data into a Python list of dictionary using the `json` package. \n",
    "\n",
    "After you load this data, loop over the list of weather items and record whether or not the `'Mean TemperatureF'` is above or below freezing. \n",
    "\n",
    "Sort this information into a separate Python dictionary, called `stats` so you can print it out like this:\n",
    "```\n",
    "{'below-freezing': 4, 'above-freezing': 27}\n",
    "```\n",
    "\n"
   ]
  },
  {
   "cell_type": "markdown",
   "metadata": {
    "collapsed": true
   },
   "source": [
    "## Step 1: Problem Analysis `input_address` function\n",
    "\n",
    "This function should get input from the user at run time and return the input address.\n",
    "\n",
    "Inputs: None (gets input from user)\n",
    "\n",
    "Outputs: a Python dictionary of address info (street, city, state, postal_code)\n",
    "\n",
    "Algorithm (Steps in Program):\n",
    "1. import json\n",
    "2. define function load weather data that converts file to python object\n",
    "3. define function extract weather info that checks whether each value of Main TemperatureF is above or below 32 degrees\n",
    "4. Load weather data using load_weather_data function into python list\n",
    "5. Loop over list and determine whether Main TemperatureF is above or below freezing\n",
    "6. Sort info into python dictionary stats\n",
    "7. Print dictionary stats"
   ]
  },
  {
   "cell_type": "code",
   "execution_count": 5,
   "metadata": {},
   "outputs": [],
   "source": [
    "def load_weather_data():\n",
    "    with open(\"NYC4-syr-weather-dec-2015.json\", encoding = 'utf8') as f:\n",
    "        data = f.read()\n",
    "        weather = json.loads(data)\n",
    "        return weather "
   ]
  },
  {
   "cell_type": "code",
   "execution_count": 6,
   "metadata": {},
   "outputs": [
    {
     "data": {
      "text/plain": [
       "list"
      ]
     },
     "execution_count": 6,
     "metadata": {},
     "output_type": "execute_result"
    }
   ],
   "source": [
    "type(weather)"
   ]
  },
  {
   "cell_type": "code",
   "execution_count": null,
   "metadata": {},
   "outputs": [],
   "source": [
    "def extract_weather_info(cuse,weather):\n",
    "    stats = {}\n",
    "    stats['Mean TemperatureF'] = []\n",
    "    for i in cuse['Mean TemperatureF']:\n",
    "        total1 = 0\n",
    "        total2 = 0\n",
    "        value = cuse.get('Main TemperatureF')\n",
    "        if value > '32': \n",
    "            total1 = total1 + 1\n",
    "        if value < '32':\n",
    "            total2 = total2 + 1\n",
    "        stats['below-freezing'] = total2\n",
    "        stats['above-freezing'] = total1\n",
    "    return stats"
   ]
  },
  {
   "cell_type": "code",
   "execution_count": 8,
   "metadata": {},
   "outputs": [
    {
     "ename": "TypeError",
     "evalue": "'float' object is not iterable",
     "output_type": "error",
     "traceback": [
      "\u001b[1;31m---------------------------------------------------------------------------\u001b[0m",
      "\u001b[1;31mTypeError\u001b[0m                                 Traceback (most recent call last)",
      "\u001b[1;32m<ipython-input-8-9995ce2de880>\u001b[0m in \u001b[0;36m<module>\u001b[1;34m()\u001b[0m\n\u001b[0;32m     25\u001b[0m \u001b[0mweather\u001b[0m \u001b[1;33m=\u001b[0m \u001b[0mload_weather_data\u001b[0m\u001b[1;33m(\u001b[0m\u001b[1;33m)\u001b[0m\u001b[1;33m\u001b[0m\u001b[0m\n\u001b[0;32m     26\u001b[0m \u001b[1;32mfor\u001b[0m \u001b[0mcuse\u001b[0m \u001b[1;32min\u001b[0m \u001b[0mweather\u001b[0m\u001b[1;33m:\u001b[0m\u001b[1;33m\u001b[0m\u001b[0m\n\u001b[1;32m---> 27\u001b[1;33m     \u001b[0mstats\u001b[0m \u001b[1;33m=\u001b[0m \u001b[0mextract_weather_info\u001b[0m\u001b[1;33m(\u001b[0m\u001b[0mcuse\u001b[0m\u001b[1;33m,\u001b[0m\u001b[0mweather\u001b[0m\u001b[1;33m)\u001b[0m\u001b[1;33m\u001b[0m\u001b[0m\n\u001b[0m\u001b[0;32m     28\u001b[0m     \u001b[0mprint\u001b[0m\u001b[1;33m(\u001b[0m\u001b[0mstats\u001b[0m\u001b[1;33m)\u001b[0m\u001b[1;33m\u001b[0m\u001b[0m\n",
      "\u001b[1;32m<ipython-input-8-9995ce2de880>\u001b[0m in \u001b[0;36mextract_weather_info\u001b[1;34m(cuse, weather)\u001b[0m\n\u001b[0;32m     11\u001b[0m     \u001b[0mstats\u001b[0m \u001b[1;33m=\u001b[0m \u001b[1;33m{\u001b[0m\u001b[1;33m}\u001b[0m\u001b[1;33m\u001b[0m\u001b[0m\n\u001b[0;32m     12\u001b[0m     \u001b[0mstats\u001b[0m\u001b[1;33m[\u001b[0m\u001b[1;34m'Mean TemperatureF'\u001b[0m\u001b[1;33m]\u001b[0m \u001b[1;33m=\u001b[0m \u001b[1;33m[\u001b[0m\u001b[1;33m]\u001b[0m\u001b[1;33m\u001b[0m\u001b[0m\n\u001b[1;32m---> 13\u001b[1;33m     \u001b[1;32mfor\u001b[0m \u001b[0mcharacter\u001b[0m \u001b[1;32min\u001b[0m \u001b[0mcuse\u001b[0m\u001b[1;33m[\u001b[0m\u001b[1;34m'Mean TemperatureF'\u001b[0m\u001b[1;33m]\u001b[0m\u001b[1;33m:\u001b[0m\u001b[1;33m\u001b[0m\u001b[0m\n\u001b[0m\u001b[0;32m     14\u001b[0m         \u001b[0mtotal1\u001b[0m \u001b[1;33m=\u001b[0m \u001b[1;36m0\u001b[0m\u001b[1;33m\u001b[0m\u001b[0m\n\u001b[0;32m     15\u001b[0m         \u001b[0mtotal2\u001b[0m \u001b[1;33m=\u001b[0m \u001b[1;36m0\u001b[0m\u001b[1;33m\u001b[0m\u001b[0m\n",
      "\u001b[1;31mTypeError\u001b[0m: 'float' object is not iterable"
     ]
    }
   ],
   "source": [
    "# Step 2: Write code\n",
    "import json\n",
    "\n",
    "def load_weather_data():\n",
    "    with open(\"NYC4-syr-weather-dec-2015.json\", encoding = 'utf8') as f:\n",
    "        data = f.read()\n",
    "        weather = json.loads(data)\n",
    "        return weather \n",
    "\n",
    "def extract_weather_info(cuse,weather):\n",
    "    stats = {}\n",
    "    stats['Mean TemperatureF'] = []\n",
    "    for character in cuse['Mean TemperatureF']:\n",
    "        total1 = 0\n",
    "        total2 = 0\n",
    "        value = cuse.get('Main TemperatureF')\n",
    "        if value > '32': \n",
    "            total1 = total1 + 1\n",
    "        if value < '32':\n",
    "            total2 = total2 + 1\n",
    "        stats['below-freezing'] = total2\n",
    "        stats['above-freezing'] = total1\n",
    "    return stats\n",
    "\n",
    "weather = load_weather_data()\n",
    "for cuse in weather:\n",
    "    stats = extract_weather_info(cuse,weather)\n",
    "    print(stats)"
   ]
  },
  {
   "cell_type": "markdown",
   "metadata": {},
   "source": [
    "## Step 3: Questions\n",
    "\n",
    "1. What are the advantages to storing the number of days above freezing and below freezing in a Python dictionary?\n",
    "The main advantage of storing this the number of days above and below freezing in a python dictionary is that you can easily call that information throughout the program once it is stored in python.\n",
    "\n",
    "2. What is the data type of the weather data as it is read from the file `NYC4-syr-weather-dec-2015.json` ?\n",
    "The data type of the weather data as it is read from the file is a list.\n",
    "\n",
    "3. Could this same program work for weather at other times in other cities? What conditions would need to be met for this to happen?\n",
    "\n",
    "This same program could work at other times in other cities but the cities would have to have times where the weather is both above and below freezing."
   ]
  },
  {
   "cell_type": "markdown",
   "metadata": {},
   "source": [
    "## Reminder of Evaluation Criteria\n",
    "\n",
    "1. What the problem attempted (analysis, code, and answered questions) ?\n",
    "2. What the problem analysis thought out? (does the program match the plan?)\n",
    "3. Does the code execute without syntax error?\n",
    "4. Does the code solve the intended problem?\n",
    "5. Is the code well written? (easy to understand, modular, and self-documenting, handles errors)\n"
   ]
  }
 ],
 "metadata": {
  "anaconda-cloud": {},
  "kernelspec": {
   "display_name": "Python 3",
   "language": "python",
   "name": "python3"
  },
  "language_info": {
   "codemirror_mode": {
    "name": "ipython",
    "version": 3
   },
   "file_extension": ".py",
   "mimetype": "text/x-python",
   "name": "python",
   "nbconvert_exporter": "python",
   "pygments_lexer": "ipython3",
   "version": "3.6.3"
  }
 },
 "nbformat": 4,
 "nbformat_minor": 1
}
