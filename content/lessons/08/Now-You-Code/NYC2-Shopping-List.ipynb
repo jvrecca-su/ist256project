{
 "cells": [
  {
   "cell_type": "markdown",
   "metadata": {},
   "source": [
    "# Now You Code 2: Shopping List\n",
    "\n",
    "Write a program to input a list of grocery items for your shopping list and then writes them to a file a line at a time.  The program should keep asking you to enter grocery items until you type `'done'`.\n",
    "\n",
    "After you complete the list, the program should then load the file and read the list back to you by printing each item out.\n",
    "\n",
    "Sample Run:\n",
    "\n",
    "```\n",
    "Let's make a shopping list. Type 'done' when you're finished:\n",
    "Enter Item: milk\n",
    "Enter Item: cheese\n",
    "Enter Item: eggs\n",
    "Enter Item: beer\n",
    "Enter Item: apples\n",
    "Enter Item: done\n",
    "Your shopping list:\n",
    "milk\n",
    "cheese\n",
    "eggs\n",
    "beer\n",
    "apples\n",
    "```\n"
   ]
  },
  {
   "cell_type": "markdown",
   "metadata": {
    "collapsed": true
   },
   "source": [
    "## Step 1: Problem Analysis\n",
    "\n",
    "Inputs:\n",
    "-Specific grocery item\n",
    "-\"Done\"\n",
    "\n",
    "Outputs:\n",
    "- the items inputted, but put into a list with one item per line\n",
    "\n",
    "Algorithm (Steps in Program):\n",
    "\n",
    "1.open file \"NYC2-shopping-list.txt\" for writing\n",
    "    2. loop program\n",
    "        3. store input in variable \"item\"\n",
    "        4. break if item == 'done'\n",
    "        5. else, write each item seperated by a line, in a list\n",
    "6. open file for reading\n",
    "    7. print contents of shopping list\n"
   ]
  },
  {
   "cell_type": "code",
   "execution_count": 34,
   "metadata": {},
   "outputs": [
    {
     "name": "stdout",
     "output_type": "stream",
     "text": [
      "Enter shopping list item: peanuts\n",
      "Enter shopping list item: green beans\n",
      "Enter shopping list item: apples\n",
      "Enter shopping list item: eggs\n",
      "Enter shopping list item: chips\n",
      "Enter shopping list item: done\n",
      "Your shopping list: \n",
      "peanuts\n",
      "green beans\n",
      "apples\n",
      "eggs\n",
      "chips\n",
      "\n"
     ]
    }
   ],
   "source": [
    "filename = \"NYC2-shopping-list.txt\"\n",
    "## Step 2: write code here\n",
    "try:\n",
    "    with open(filename,\"w\") as shoppingList:\n",
    "        while True:\n",
    "            item = input(\"Enter shopping list item: \")\n",
    "            if item == 'done':\n",
    "                break\n",
    "            else:\n",
    "                shoppingList.write(item + \"\\n\")\n",
    "                continue\n",
    "    with open (filename, 'r') as shoppingList:\n",
    "        print(\"Your shopping list: \\n%s\" % shoppingList.read())\n",
    "except ValueError:\n",
    "        print(\"Value Error.\")"
   ]
  },
  {
   "cell_type": "markdown",
   "metadata": {
    "collapsed": true
   },
   "source": [
    "## Step 3: Refactoring\n",
    "\n",
    "Refactor the part of your program which reads the shopping list from the file into a separate user-defined function called `readShoppingList` \n",
    "re-write your program to use this function.\n",
    "\n",
    "## ReadShoppingList function\n",
    "\n",
    "Inputs:\n",
    "- input items of the shopping list\n",
    "\n",
    "Outputs:\n",
    " - the items inputted, but put into a list with one item per line\n",
    " \n",
    "Algorithm (Steps in Program):\n",
    "1. identify file name\n",
    "2. open file for writing - \"NYC2-shopping-list.txt\"\n",
    "    3. Loop program\n",
    "    4. input each item of list\n",
    "        5. break if item == 'done'\n",
    "        6. else write input into file with one item per line\n",
    "7. Execute readShoppingList function\n",
    "\n",
    "\n"
   ]
  },
  {
   "cell_type": "code",
   "execution_count": 2,
   "metadata": {},
   "outputs": [
    {
     "name": "stdout",
     "output_type": "stream",
     "text": [
      "Enter Item: bread\n",
      "Enter Item: milk\n",
      "Enter Item: cheese\n",
      "Enter Item: juice\n",
      "Enter Item: grapes\n",
      "Enter Item: chips\n",
      "Enter Item: done\n",
      "Your shopping list: \n",
      "bread\n",
      "milk\n",
      "cheese\n",
      "juice\n",
      "grapes\n",
      "chips\n",
      "\n"
     ]
    }
   ],
   "source": [
    "## Step 4: Write program again with refactored code.\n",
    "def readShoppingList():\n",
    "    shoppingList = ['milk','eggs','bread','water']\n",
    "    # todo read shopping list here\n",
    "    with open (filename, 'r') as shoppingList:\n",
    "        print(\"Your shopping list: \\n%s\" % shoppingList.read())\n",
    "    return shoppingList\n",
    "\n",
    "\n",
    "# TODO Main code here    \n",
    "filename = \"NYC2-shopping-list.txt\"\n",
    "try:\n",
    "    with open(filename,\"w\") as groceries:\n",
    "        while True:\n",
    "            item = input(\"Enter Item: \")\n",
    "            if item == 'done':\n",
    "                break\n",
    "            else:\n",
    "                groceries.write(item + \"\\n\")\n",
    "                continue\n",
    "    readShoppingList()\n",
    "except ValueError:\n",
    "    print(\"Value Error\")"
   ]
  },
  {
   "cell_type": "markdown",
   "metadata": {},
   "source": [
    "## Step 5: Questions\n",
    "\n",
    "1. Is the refactored code in step 4 easier to read? Why or why not?\n",
    "\n",
    "Yes, the refactored code in step 4 is easier to read because it is more concise and does not involve as many characters to open and print the file.\n",
    "\n",
    "2. Explain how this program could be refarctored further (there's one thing that's obvious).\n",
    "\n",
    "You could refactor the first part of the program which refers to writing over the already existing file with the \"if\" and \"else\" statements. This would allow for the program to be easier to read with less characters to type.\n",
    "\n",
    "3. Describe how this program can be modified to support multiple shopping lists?\n",
    "\n",
    "You can support multiple shopping lists at the same time by including more files into the program. Instead of just having one file, \"NYC2-shopping-list.txt\" for example, we could include other files for shopping lists in the program as well."
   ]
  },
  {
   "cell_type": "markdown",
   "metadata": {},
   "source": [
    "## Reminder of Evaluation Criteria\n",
    "\n",
    "1. What the problem attempted (analysis, code, and answered questions) ?\n",
    "2. What the problem analysis thought out? (does the program match the plan?)\n",
    "3. Does the code execute without syntax error?\n",
    "4. Does the code solve the intended problem?\n",
    "5. Is the code well written? (easy to understand, modular, and self-documenting, handles errors)\n"
   ]
  }
 ],
 "metadata": {
  "anaconda-cloud": {},
  "kernelspec": {
   "display_name": "Python 3",
   "language": "python",
   "name": "python3"
  },
  "language_info": {
   "codemirror_mode": {
    "name": "ipython",
    "version": 3
   },
   "file_extension": ".py",
   "mimetype": "text/x-python",
   "name": "python",
   "nbconvert_exporter": "python",
   "pygments_lexer": "ipython3",
   "version": "3.6.3"
  }
 },
 "nbformat": 4,
 "nbformat_minor": 1
}
