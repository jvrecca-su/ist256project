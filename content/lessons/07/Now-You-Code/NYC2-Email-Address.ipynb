{
 "cells": [
  {
   "cell_type": "markdown",
   "metadata": {},
   "source": [
    "# Now You Code 2: Is That An Email Address?\n",
    "\n",
    "Let's use Python's built-in string functions to write our own function to detect if a string is an email address. \n",
    "\n",
    "The function `isEmail(text)` should return `True` when `text` is an email address, `False` otherwise.  \n",
    "\n",
    "For simplicity's sake we will define an email address to be any string with just ONE `@` symbol in it, where the `@` is not at the beginning or end of the string. So `a@b` is considered an email (even though it really isn't).\n",
    "\n",
    "The program should detect emails until you enter quit. \n",
    "\n",
    "Sample run:\n",
    "```\n",
    "Email address detector. Type quit to exit. \n",
    "Email: mafudge@syr.edu\n",
    "mafudge@syr.edu ==> email\n",
    "Email: mafudge@\n",
    "mafudge@ ==> NOT EMAIL\n",
    "Email: mafudge\n",
    "mafudge ==> NOT EMAIL\n",
    "Email: @syr.edu\n",
    "@syr.edu ==> NOT EMAIL\n",
    "Email: @\n",
    "@ ==> NOT EMAIL\n",
    "Email: mafudge@@syr.edu\n",
    "mafudge@@syr.edu ==> NOT EMAIL\n",
    "Email: mafudge@syr@edu\n",
    "mafudge@syr@edu ==> NOT EMAIL\n",
    "```\n",
    "\n",
    "Once again we will use the problem simplification technique to writing this program.\n",
    "\n",
    "First we will write the `isEmail(text)` function, then we will write the main program.\n"
   ]
  },
  {
   "cell_type": "markdown",
   "metadata": {},
   "source": [
    "## Step 1: Problem Analysis for isEmail function only\n",
    "\n",
    "Inputs (function arguments):\n",
    "-Input email address(text)\n",
    "\n",
    "Outputs (what is returns): \n",
    "-outputs True when it is an email\n",
    "-outputs False when there is no email\n",
    "\n",
    "Algorithm (Steps in Function):\n",
    "-count number of '@' in text\n",
    "-if count does not equal one, return false\n",
    "-index location of '@' symbol\n",
    "-if index location = 0 return false\n",
    "-if index location = index location - 1, then return False\n",
    "-Else return True\n"
   ]
  },
  {
   "cell_type": "code",
   "execution_count": 1,
   "metadata": {},
   "outputs": [],
   "source": [
    "## Step 2: Todo write the function definition for isEmail functiuon\n",
    "def isEmail(text):\n",
    "    cnt = text.count(\"@\")\n",
    "    if cnt != 1:\n",
    "        return False\n",
    "    index = text.index('@')\n",
    "    if index == 0:\n",
    "        return False\n",
    "    elif index == len(text) - 1:\n",
    "        return False\n",
    "    return True\n",
    "        \n",
    "    "
   ]
  },
  {
   "cell_type": "code",
   "execution_count": 4,
   "metadata": {},
   "outputs": [
    {
     "name": "stdout",
     "output_type": "stream",
     "text": [
      "WHEN text=mike@syr.edu We EXPECT isEmail(text) to return True ACTUAL True\n",
      "WHEN text=mike@ We EXPECT isEmail(text) to return False ACTUAL False\n",
      "WHEN text= @ We EXPECT isEmail(text) to return False ACTUAL False\n",
      "WHEN text=j@b@ We EXPECT isEmail(text) to return False ACTUAL False\n",
      "WHEN text= jn We EXPECT isEmail(text) to return False ACTUAL False\n"
     ]
    }
   ],
   "source": [
    "## Step 3: Write some tests, to ensure the function works, for example\n",
    "## Make sure to test all cases!\n",
    "print(\"WHEN text=mike@syr.edu We EXPECT isEmail(text) to return True\", \"ACTUAL\", isEmail(\"mike@syr.edu\") )\n",
    "print(\"WHEN text=mike@ We EXPECT isEmail(text) to return False\", \"ACTUAL\", isEmail(\"mike@\") )\n",
    "print(\"WHEN text= @ We EXPECT isEmail(text) to return False\", \"ACTUAL\", isEmail(\"@\") )\n",
    "print(\"WHEN text=j@b@ We EXPECT isEmail(text) to return False\", \"ACTUAL\", isEmail(\"j@b@\") )\n",
    "print(\"WHEN text= jn We EXPECT isEmail(text) to return False\", \"ACTUAL\", isEmail(\"jn\") )"
   ]
  },
  {
   "cell_type": "markdown",
   "metadata": {},
   "source": [
    "## Step 4: Problem Analysis for full Program\n",
    "\n",
    "Inputs:\n",
    "- input text\n",
    "\n",
    "Outputs:\n",
    "- output True\n",
    "- Output False\n",
    "- Output \"This is an email\"\n",
    "- Output \"This is not an Email\"\n",
    "\n",
    "Algorithm (Steps in Program):\n",
    "- loop program\n",
    "- input text\n",
    "- If text = \"quit\", break\n",
    "- Else, use function isEmail\n",
    "- if isEmail(text) == True, print \"This is an email\"\n",
    "- if isEmail(text) == False, print \"This is not an email\"\n"
   ]
  },
  {
   "cell_type": "code",
   "execution_count": 3,
   "metadata": {},
   "outputs": [
    {
     "name": "stdout",
     "output_type": "stream",
     "text": [
      "Enter email address: j@b\n",
      "This is an email\n",
      "Enter email address: @\n",
      "This is not an Email\n",
      "Enter email address: jvrecca@syr.edu\n",
      "This is an email\n",
      "Enter email address: jvrecca@@syr.edu\n",
      "This is not an Email\n",
      "Enter email address: jsdlkjfsl@\n",
      "This is not an Email\n",
      "Enter email address: quit\n"
     ]
    }
   ],
   "source": [
    "## Step 5: todo write code for full problem, using the isEmail function to help you solve the problem\n",
    "while True:\n",
    "    text = input(\"Enter email address: \")\n",
    "    if text == ('quit'):\n",
    "        break\n",
    "    else:\n",
    "        return_val = isEmail(text)\n",
    "        if isEmail(text) == True:\n",
    "            print(\"This is an email\")\n",
    "        else:\n",
    "            print(\"This is not an Email\")\n",
    "    "
   ]
  },
  {
   "cell_type": "markdown",
   "metadata": {},
   "source": [
    "## Step 6: Questions\n",
    "\n",
    "1. How many test cases should you have in step 3 to ensure you've tested all the cases?\n",
    "There should be 5 test cases for this program. The location of the '@' symbol needs to be tested once at the beginning, and once at the end. You also need to add one test for the actual email, as well as two more to make sure that there is only one '@' symbol located in the text. In total, there are five tests that should be run.\n",
    "\n",
    "2. What should kind of logic should we add to make our `isEmail` function even better, so that is detects emails more accurately?\n",
    "In order to make this function work even better, we could make it so the program picks up when there is a '.' in the text. Usually a period is used for a web address, such as .com, so this would help ensure that what is being inputted is actually an email."
   ]
  },
  {
   "cell_type": "markdown",
   "metadata": {},
   "source": [
    "## Reminder of Evaluation Criteria\n",
    "\n",
    "1. What the problem attempted (analysis, code, and answered questions) ?\n",
    "2. What the problem analysis thought out? (does the program match the plan?)\n",
    "3. Does the code execute without syntax error?\n",
    "4. Does the code solve the intended problem?\n",
    "5. Is the code well written? (easy to understand, modular, and self-documenting, handles errors)\n"
   ]
  },
  {
   "cell_type": "code",
   "execution_count": null,
   "metadata": {
    "collapsed": true
   },
   "outputs": [],
   "source": []
  }
 ],
 "metadata": {
  "anaconda-cloud": {},
  "kernelspec": {
   "display_name": "Python 3",
   "language": "python",
   "name": "python3"
  },
  "language_info": {
   "codemirror_mode": {
    "name": "ipython",
    "version": 3
   },
   "file_extension": ".py",
   "mimetype": "text/x-python",
   "name": "python",
   "nbconvert_exporter": "python",
   "pygments_lexer": "ipython3",
   "version": "3.6.3"
  }
 },
 "nbformat": 4,
 "nbformat_minor": 1
}
