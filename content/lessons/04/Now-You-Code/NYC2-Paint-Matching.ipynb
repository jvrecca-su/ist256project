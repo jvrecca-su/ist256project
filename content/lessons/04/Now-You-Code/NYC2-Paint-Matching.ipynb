{
 "cells": [
  {
   "cell_type": "markdown",
   "metadata": {},
   "source": [
    "# Now You Code 2: Paint Pricing\n",
    "\n",
    "House Depot, a big-box hardware retailer, has contracted you to create an app to calculate paint prices. \n",
    "\n",
    "The price of paint is determined by the following factors:\n",
    "- Everyday quality paint is `$19.99` per gallon.\n",
    "- Select quality paint is `$24.99` per gallon.\n",
    "- Premium quality paint is `$32.99` per gallon.\n",
    "\n",
    "In addition if the customer wants computerized color-matching that incurs an additional fee of `$4.99` per gallon. \n",
    "\n",
    "Write a program to ask the user to select a paint quality: 'everyday', 'select' or 'premium' and then whether they need color matching and then outputs the price per gallon of the paint.\n",
    "\n",
    "Example Run 1:\n",
    "\n",
    "```\n",
    "Which paint quality do you require ['everyday', 'select', 'premium'] ?select\n",
    "Do you require color matching [y/n] ?y\n",
    "Total price of select paint with color matching is $29.98\n",
    "```\n",
    "\n",
    "Example Run 2:\n",
    "\n",
    "```\n",
    "Which paint quality do you require ['everyday', 'select', 'premium'] ?premium\n",
    "Do you require color matching [y/n] ?n\n",
    "Total price of premium paint without color matching is $32.99\n",
    "```"
   ]
  },
  {
   "cell_type": "markdown",
   "metadata": {
    "collapsed": true
   },
   "source": [
    "## Step 1: Problem Analysis\n",
    "\n",
    "Inputs: quality of paint (everyday, select, premium)\n",
    "\n",
    "Outputs: total price of paint with or without color matching\n",
    "\n",
    "Algorithm (Steps in Program):\n",
    "1.input quality of paint\n",
    "2.input whether paint needs color matching\n",
    "3.calculate price of paint and whether or not they pay the matching fee\n",
    "4.print total price of transaction\n"
   ]
  },
  {
   "cell_type": "code",
   "execution_count": 8,
   "metadata": {},
   "outputs": [
    {
     "name": "stdout",
     "output_type": "stream",
     "text": [
      "Enter quality required - everyday, select, premium:everyday\n",
      "Do you require color matching - y/n:yes\n",
      "Total price of everyday paint with color matching: 24.98 \n"
     ]
    }
   ],
   "source": [
    "# Step 2: Write code here\n",
    "quality = input(\"Enter quality required - everyday, select, premium:\",)\n",
    "choices = ['everyday', 'select', 'premium']\n",
    "answer = ['yes', 'no']\n",
    "everyday = float(19.99)\n",
    "select = float(24.99)\n",
    "premium = float(32.99)\n",
    "yes = float(4.99)\n",
    "no = float(0.00)\n",
    "everyday_matching = everyday + yes\n",
    "select_matching = select + yes\n",
    "premium_matching = premium + yes\n",
    "\n",
    "if quality in choices:\n",
    "    match = input(\"Do you require color matching - y/n:\",)\n",
    "    if match in answer:\n",
    "        if quality == 'everyday' and match == 'yes':\n",
    "            print(\"Total price of everyday paint with color matching: %.2f \" % (everyday_matching))\n",
    "        elif quality == 'everyday' and match == 'no':\n",
    "            print(\"Total price of everyday paint with no color matching:\", everyday)\n",
    "        elif quality == 'select' and match == 'yes':\n",
    "            print(\"Total price of selec paint with color matching: %.2f \" % (select_matching))\n",
    "        elif quality == 'select' and match == 'no':\n",
    "            print(\"Total price of select paint with no color matching:\", select)\n",
    "        elif quality == 'premium' and match == 'yes':\n",
    "            print(\"Total price of premium paint with color matching: %.2f \" % (premium_matching))\n",
    "        elif quality == 'premium' and match == 'no':\n",
    "            print(\"Total price of premium paint with no color matching:\", premium)\n",
    "        else:\n",
    "            print(\"Enter valid option\")\n",
    "    else:\n",
    "        print(\"You must enter yes or no. Please restart.\")\n",
    "else:\n",
    "    print(\"That is not a paint quality. Please restart.\")"
   ]
  },
  {
   "cell_type": "code",
   "execution_count": 7,
   "metadata": {},
   "outputs": [
    {
     "name": "stdout",
     "output_type": "stream",
     "text": [
      "Enter quality required - everyday, select, premium:everyday\n",
      "Do you require color matching - y/n:no\n",
      "Total price of everyday paint with no color matching: 19.99\n"
     ]
    }
   ],
   "source": [
    "# Step 2: Write code here\n",
    "quality = input(\"Enter quality required - everyday, select, premium:\",)\n",
    "choices = ['everyday', 'select', 'premium']\n",
    "answer = ['yes', 'no']\n",
    "everyday = float(19.99)\n",
    "select = float(24.99)\n",
    "premium = float(32.99)\n",
    "yes = float(4.99)\n",
    "no = float(0.00)\n",
    "everyday_matching = everyday + yes\n",
    "select_matching = select + yes\n",
    "premium_matching = premium + yes\n",
    "\n",
    "if quality in choices:\n",
    "    match = input(\"Do you require color matching - y/n:\",)\n",
    "    if match in answer:\n",
    "        if quality == 'everyday' and match == 'yes':\n",
    "            print(\"Total price of everyday paint with color matching: %.2f \" % (everyday_matching))\n",
    "        elif quality == 'everyday' and match == 'no':\n",
    "            print(\"Total price of everyday paint with no color matching:\", everyday)\n",
    "        elif quality == 'select' and match == 'yes':\n",
    "            print(\"Total price of selec paint with color matching: %.2f \" % (select_matching))\n",
    "        elif quality == 'select' and match == 'no':\n",
    "            print(\"Total price of select paint with no color matching:\", select)\n",
    "        elif quality == 'premium' and match == 'yes':\n",
    "            print(\"Total price of premium paint with color matching: %.2f \" % (premium_matching))\n",
    "        elif quality == 'premium' and match == 'no':\n",
    "            print(\"Total price of premium paint with no color matching:\", premium)\n",
    "        else:\n",
    "            print(\"Enter valid option\")\n",
    "    else:\n",
    "        print(\"You must enter yes or no. Please restart.\")\n",
    "else:\n",
    "    print(\"That is not a paint quality. Please restart.\")"
   ]
  },
  {
   "cell_type": "code",
   "execution_count": 9,
   "metadata": {},
   "outputs": [
    {
     "name": "stdout",
     "output_type": "stream",
     "text": [
      "Enter quality required - everyday, select, premium:select\n",
      "Do you require color matching - y/n:yes\n",
      "Total price of select paint with color matching: 29.98 \n"
     ]
    }
   ],
   "source": [
    "# Step 2: Write code here\n",
    "quality = input(\"Enter quality required - everyday, select, premium:\",)\n",
    "choices = ['everyday', 'select', 'premium']\n",
    "answer = ['yes', 'no']\n",
    "everyday = float(19.99)\n",
    "select = float(24.99)\n",
    "premium = float(32.99)\n",
    "yes = float(4.99)\n",
    "no = float(0.00)\n",
    "everyday_matching = everyday + yes\n",
    "select_matching = select + yes\n",
    "premium_matching = premium + yes\n",
    "\n",
    "if quality in choices:\n",
    "    match = input(\"Do you require color matching - y/n:\",)\n",
    "    if match in answer:\n",
    "        if quality == 'everyday' and match == 'yes':\n",
    "            print(\"Total price of everyday paint with color matching: %.2f \" % (everyday_matching))\n",
    "        elif quality == 'everyday' and match == 'no':\n",
    "            print(\"Total price of everyday paint with no color matching:\", everyday)\n",
    "        elif quality == 'select' and match == 'yes':\n",
    "            print(\"Total price of select paint with color matching: %.2f \" % (select_matching))\n",
    "        elif quality == 'select' and match == 'no':\n",
    "            print(\"Total price of select paint with no color matching:\", select)\n",
    "        elif quality == 'premium' and match == 'yes':\n",
    "            print(\"Total price of premium paint with color matching: %.2f \" % (premium_matching))\n",
    "        elif quality == 'premium' and match == 'no':\n",
    "            print(\"Total price of premium paint with no color matching:\", premium)\n",
    "        else:\n",
    "            print(\"Enter valid option\")\n",
    "    else:\n",
    "        print(\"You must enter yes or no. Please restart.\")\n",
    "else:\n",
    "    print(\"That is not a paint quality. Please restart.\")"
   ]
  },
  {
   "cell_type": "code",
   "execution_count": 5,
   "metadata": {},
   "outputs": [
    {
     "name": "stdout",
     "output_type": "stream",
     "text": [
      "Enter quality required - everyday, select, premium:select\n",
      "Do you require color matching - y/n:no\n",
      "Total price of select paint with no color matching: 24.99\n"
     ]
    }
   ],
   "source": [
    "# Step 2: Write code here\n",
    "quality = input(\"Enter quality required - everyday, select, premium:\",)\n",
    "choices = ['everyday', 'select', 'premium']\n",
    "answer = ['yes', 'no']\n",
    "everyday = float(19.99)\n",
    "select = float(24.99)\n",
    "premium = float(32.99)\n",
    "yes = float(4.99)\n",
    "no = float(0.00)\n",
    "everyday_matching = everyday + yes\n",
    "select_matching = select + yes\n",
    "premium_matching = premium + yes\n",
    "\n",
    "if quality in choices:\n",
    "    match = input(\"Do you require color matching - y/n:\",)\n",
    "    if match in answer:\n",
    "        if quality == 'everyday' and match == 'yes':\n",
    "            print(\"Total price of everyday paint with color matching: %.2f \" % (everyday_matching))\n",
    "        elif quality == 'everyday' and match == 'no':\n",
    "            print(\"Total price of everyday paint with no color matching:\", everyday)\n",
    "        elif quality == 'select' and match == 'yes':\n",
    "            print(\"Total price of selec paint with color matching: %.2f \" % (select_matching))\n",
    "        elif quality == 'select' and match == 'no':\n",
    "            print(\"Total price of select paint with no color matching:\", select)\n",
    "        elif quality == 'premium' and match == 'yes':\n",
    "            print(\"Total price of premium paint with color matching: %.2f \" % (premium_matching))\n",
    "        elif quality == 'premium' and match == 'no':\n",
    "            print(\"Total price of premium paint with no color matching:\", premium)\n",
    "        else:\n",
    "            print(\"Enter valid option\")\n",
    "    else:\n",
    "        print(\"You must enter yes or no. Please restart.\")\n",
    "else:\n",
    "    print(\"That is not a paint quality. Please restart.\")"
   ]
  },
  {
   "cell_type": "code",
   "execution_count": 4,
   "metadata": {},
   "outputs": [
    {
     "name": "stdout",
     "output_type": "stream",
     "text": [
      "Enter quality required - everyday, select, premium:premium\n",
      "Do you require color matching - y/n:yes\n",
      "Total price of premium paint with color matching: 37.98 \n"
     ]
    }
   ],
   "source": [
    "# Step 2: Write code here\n",
    "quality = input(\"Enter quality required - everyday, select, premium:\",)\n",
    "choices = ['everyday', 'select', 'premium']\n",
    "answer = ['yes', 'no']\n",
    "everyday = float(19.99)\n",
    "select = float(24.99)\n",
    "premium = float(32.99)\n",
    "yes = float(4.99)\n",
    "no = float(0.00)\n",
    "everyday_matching = everyday + yes\n",
    "select_matching = select + yes\n",
    "premium_matching = premium + yes\n",
    "\n",
    "if quality in choices:\n",
    "    match = input(\"Do you require color matching - y/n:\",)\n",
    "    if match in answer:\n",
    "        if quality == 'everyday' and match == 'yes':\n",
    "            print(\"Total price of everyday paint with color matching: %.2f \" % (everyday_matching))\n",
    "        elif quality == 'everyday' and match == 'no':\n",
    "            print(\"Total price of everyday paint with no color matching:\", everyday)\n",
    "        elif quality == 'select' and match == 'yes':\n",
    "            print(\"Total price of selec paint with color matching: %.2f \" % (select_matching))\n",
    "        elif quality == 'select' and match == 'no':\n",
    "            print(\"Total price of select paint with no color matching:\", select)\n",
    "        elif quality == 'premium' and match == 'yes':\n",
    "            print(\"Total price of premium paint with color matching: %.2f \" % (premium_matching))\n",
    "        elif quality == 'premium' and match == 'no':\n",
    "            print(\"Total price of premium paint with no color matching:\", premium)\n",
    "        else:\n",
    "            print(\"Enter valid option\")\n",
    "    else:\n",
    "        print(\"You must enter yes or no. Please restart.\")\n",
    "else:\n",
    "    print(\"That is not a paint quality. Please restart.\")"
   ]
  },
  {
   "cell_type": "code",
   "execution_count": 3,
   "metadata": {},
   "outputs": [
    {
     "name": "stdout",
     "output_type": "stream",
     "text": [
      "Enter quality required - everyday, select, premium:premium\n",
      "Do you require color matching - y/n:no\n",
      "Total price of premium paint with no color matching: 32.99\n"
     ]
    }
   ],
   "source": [
    "# Step 2: Write code here\n",
    "quality = input(\"Enter quality required - everyday, select, premium:\",)\n",
    "choices = ['everyday', 'select', 'premium']\n",
    "answer = ['yes', 'no']\n",
    "everyday = float(19.99)\n",
    "select = float(24.99)\n",
    "premium = float(32.99)\n",
    "yes = float(4.99)\n",
    "no = float(0.00)\n",
    "everyday_matching = everyday + yes\n",
    "select_matching = select + yes\n",
    "premium_matching = premium + yes\n",
    "\n",
    "if quality in choices:\n",
    "    match = input(\"Do you require color matching - y/n:\",)\n",
    "    if match in answer:\n",
    "        if quality == 'everyday' and match == 'yes':\n",
    "            print(\"Total price of everyday paint with color matching: %.2f \" % (everyday_matching))\n",
    "        elif quality == 'everyday' and match == 'no':\n",
    "            print(\"Total price of everyday paint with no color matching:\", everyday)\n",
    "        elif quality == 'select' and match == 'yes':\n",
    "            print(\"Total price of selec paint with color matching: %.2f \" % (select_matching))\n",
    "        elif quality == 'select' and match == 'no':\n",
    "            print(\"Total price of select paint with no color matching:\", select)\n",
    "        elif quality == 'premium' and match == 'yes':\n",
    "            print(\"Total price of premium paint with color matching: %.2f \" % (premium_matching))\n",
    "        elif quality == 'premium' and match == 'no':\n",
    "            print(\"Total price of premium paint with no color matching:\", premium)\n",
    "        else:\n",
    "            print(\"Enter valid option\")\n",
    "    else:\n",
    "        print(\"You must enter yes or no. Please restart.\")\n",
    "else:\n",
    "    print(\"That is not a paint quality. Please restart.\")"
   ]
  },
  {
   "cell_type": "code",
   "execution_count": 1,
   "metadata": {},
   "outputs": [
    {
     "name": "stdout",
     "output_type": "stream",
     "text": [
      "Enter quality required - everyday, select, premium:yes\n",
      "That is not a paint quality. Please restart.\n"
     ]
    }
   ],
   "source": [
    "# Step 2: Write code here\n",
    "quality = input(\"Enter quality required - everyday, select, premium:\",)\n",
    "choices = ['everyday', 'select', 'premium']\n",
    "answer = ['yes', 'no']\n",
    "everyday = float(19.99)\n",
    "select = float(24.99)\n",
    "premium = float(32.99)\n",
    "yes = float(4.99)\n",
    "no = float(0.00)\n",
    "everyday_matching = everyday + yes\n",
    "select_matching = select + yes\n",
    "premium_matching = premium + yes\n",
    "\n",
    "if quality in choices:\n",
    "    match = input(\"Do you require color matching - y/n:\",)\n",
    "    if match in answer:\n",
    "        if quality == 'everyday' and match == 'yes':\n",
    "            print(\"Total price of everyday paint with color matching: %.2f \" % (everyday_matching))\n",
    "        elif quality == 'everyday' and match == 'no':\n",
    "            print(\"Total price of everyday paint with no color matching:\", everyday)\n",
    "        elif quality == 'select' and match == 'yes':\n",
    "            print(\"Total price of selec paint with color matching: %.2f \" % (select_matching))\n",
    "        elif quality == 'select' and match == 'no':\n",
    "            print(\"Total price of select paint with no color matching:\", select)\n",
    "        elif quality == 'premium' and match == 'yes':\n",
    "            print(\"Total price of premium paint with color matching: %.2f \" % (premium_matching))\n",
    "        elif quality == 'premium' and match == 'no':\n",
    "            print(\"Total price of premium paint with no color matching:\", premium)\n",
    "        else:\n",
    "            print(\"Enter valid option\")\n",
    "    else:\n",
    "        print(\"You must enter yes or no. Please restart.\")\n",
    "else:\n",
    "    print(\"That is not a paint quality. Please restart.\")"
   ]
  },
  {
   "cell_type": "code",
   "execution_count": 2,
   "metadata": {},
   "outputs": [
    {
     "name": "stdout",
     "output_type": "stream",
     "text": [
      "Enter quality required - everyday, select, premium:everyday\n",
      "Do you require color matching - y/n:premium\n",
      "You must enter yes or no. Please restart.\n"
     ]
    }
   ],
   "source": [
    "# Step 2: Write code here\n",
    "quality = input(\"Enter quality required - everyday, select, premium:\",)\n",
    "choices = ['everyday', 'select', 'premium']\n",
    "answer = ['yes', 'no']\n",
    "everyday = float(19.99)\n",
    "select = float(24.99)\n",
    "premium = float(32.99)\n",
    "yes = float(4.99)\n",
    "no = float(0.00)\n",
    "everyday_matching = everyday + yes\n",
    "select_matching = select + yes\n",
    "premium_matching = premium + yes\n",
    "\n",
    "if quality in choices:\n",
    "    match = input(\"Do you require color matching - y/n:\",)\n",
    "    if match in answer:\n",
    "        if quality == 'everyday' and match == 'yes':\n",
    "            print(\"Total price of everyday paint with color matching: %.2f \" % (everyday_matching))\n",
    "        elif quality == 'everyday' and match == 'no':\n",
    "            print(\"Total price of everyday paint with no color matching:\", everyday)\n",
    "        elif quality == 'select' and match == 'yes':\n",
    "            print(\"Total price of selec paint with color matching: %.2f \" % (select_matching))\n",
    "        elif quality == 'select' and match == 'no':\n",
    "            print(\"Total price of select paint with no color matching:\", select)\n",
    "        elif quality == 'premium' and match == 'yes':\n",
    "            print(\"Total price of premium paint with color matching: %.2f \" % (premium_matching))\n",
    "        elif quality == 'premium' and match == 'no':\n",
    "            print(\"Total price of premium paint with no color matching:\", premium)\n",
    "        else:\n",
    "            print(\"Enter valid option\")\n",
    "    else:\n",
    "        print(\"You must enter yes or no. Please restart.\")\n",
    "else:\n",
    "    print(\"That is not a paint quality. Please restart.\")"
   ]
  },
  {
   "cell_type": "markdown",
   "metadata": {},
   "source": [
    "## Step 3: Questions\n",
    "\n",
    "1. When you enter something other than `'everyday', 'select',` or  `'premium'` what happens? Modify the program to print `that is not a paint quality` and then exit in those cases.\n",
    "When I enter something other than everyday, select, or premium, the program displayed that a valid choice must be entered, because under the \"else\" operator I told the computer to originally print, \"Please enter a valid choice.\"\n",
    "\n",
    "2. What happens when you enter something other than `'y'` or `'n'` for color matching? Re-write the program to print `you must enter y or n` whenever you enter something other than those two values.\n",
    "When something other than 'yes' or 'no' was entered, the program displayed that a valid choice must be entered, because under the \"else\" operator I told the computer to originally print, \"Please enter a valid choice.\"\n",
    "\n",
    "3. Why can't we use Python's `try...except` in this example?\n",
    "We cannot use Python's 'try....except' in this example because we do not know what inputs will cause a runtime error in our program. Once the error is caught, then it can be included in the 'try...except' function.\n",
    "\n",
    "4. How many times (at minimum) must we execute this program and check the results before we can be reasonably assured it is correct?\n",
    "We must run this program at least 8 times, 6 for each possible outcome, as well as two more runs, one where you check what the computer displays when an invalid paint quality is entered, and one where you check what is displayed when someone inputs an answer other than 'yes' or 'no'."
   ]
  },
  {
   "cell_type": "markdown",
   "metadata": {},
   "source": [
    "## Reminder of Evaluation Criteria\n",
    "\n",
    "1. What the problem attempted (analysis, code, and answered questions) ?\n",
    "2. What the problem analysis thought out? (does the program match the plan?)\n",
    "3. Does the code execute without syntax error?\n",
    "4. Does the code solve the intended problem?\n",
    "5. Is the code well written? (easy to understand, modular, and self-documenting, handles errors)\n"
   ]
  },
  {
   "cell_type": "code",
   "execution_count": null,
   "metadata": {
    "collapsed": true
   },
   "outputs": [],
   "source": []
  }
 ],
 "metadata": {
  "anaconda-cloud": {},
  "kernelspec": {
   "display_name": "Python 3",
   "language": "python",
   "name": "python3"
  },
  "language_info": {
   "codemirror_mode": {
    "name": "ipython",
    "version": 3
   },
   "file_extension": ".py",
   "mimetype": "text/x-python",
   "name": "python",
   "nbconvert_exporter": "python",
   "pygments_lexer": "ipython3",
   "version": "3.6.3"
  }
 },
 "nbformat": 4,
 "nbformat_minor": 1
}
