{
 "cells": [
  {
   "cell_type": "markdown",
   "metadata": {},
   "source": [
    "# Now You Code 2: Information Extraction\n",
    "\n",
    "How do we make computers seem intelligent? One approach is to use *term extraction*. Term extration is a type of information extration where we attempt to find relevant terms in text. The relevant terms come from a *corpus*, or set of plausible terms we want to extract.\n",
    "\n",
    "For example, suppose we have the text:\n",
    "\n",
    "`One day I would like to visit Syracuse`\n",
    "\n",
    "We has smart humans can be fairly confident that `Syracuse` is a place, more specifically a `city`. \n",
    "\n",
    "A rudimentary method to make the computer interpret `Syracuse` as a place is to provide a corpus of cities and have the computer look up `Syracuse` in that corpus. \n",
    "\n",
    "In this code exercise we will do just that. Let's first write a function to read cities from the file `NYC2-cities.txt` into a corpus of cities, which will be represented in Python as a list.\n",
    "\n",
    "Then write a main program loop to input some text, split the text into a list of words and if any of the words match a city in the corpus list we will output the word is a city.\n",
    "\n",
    "The program should handle upper / lower case matching. A good approach is to title case the input. \n",
    "\n",
    "IMPORTANT: Please note that our program will ONLY work for one word cities, like `Syracuse` and will not work for multiple-word cities like `San Diego`. Don't worry about that now. \n",
    "\n",
    "SAMPLE RUN\n",
    "\n",
    "```\n",
    "Enter some text (or ENTER to quit): one day I would like to visit syraucse and rochester\n",
    "Syracuse is a city\n",
    "Rochester is a city\n",
    "Enter some text (or ENTER to quit): austin is in texas\n",
    "Austin is a city\n",
    "Enter some text (or ENTER to quit): \n",
    "Quitting...\n",
    "```\n",
    "\n",
    "Once again we will solve this problem using the problem simplification approach. First we will write the `load_city_corpus` function to build our city list. Second we will write the  `is_a_city` function which given a word and a city list will return `True` when the word is a city. Finally we conclude with the main program which finds cities in our text, as demonstrated in our sample run."
   ]
  },
  {
   "cell_type": "markdown",
   "metadata": {
    "collapsed": true
   },
   "source": [
    "## Step 1: Problem Analysis for `load_city_corpus`\n",
    "\n",
    "Inputs: None (reads from a file)\n",
    "\n",
    "Outputs: a Python list of cities\n",
    "\n",
    "Algorithm (Steps in Program):\n",
    "1. Define load_city_corpus()\n",
    "\n",
    "    2. Start with an empty list\n",
    "    \n",
    "    3. Use file handle to name file \"NYC2-cities.txt\"\n",
    "    \n",
    "    4. Open file\n",
    "    \n",
    "        5. for line in file\n",
    "        \n",
    "               6.append and strip to list\n",
    "               \n",
    "    7. return city_list  "
   ]
  },
  {
   "cell_type": "code",
   "execution_count": 39,
   "metadata": {},
   "outputs": [],
   "source": [
    "## Step 2: write the defintion for the load_city_corpus function\n",
    "def load_city_corpus():\n",
    "    city_list = []\n",
    "    filename = \"NYC2-cities.txt\"\n",
    "    with open(filename) as f:\n",
    "        for line in f:\n",
    "            city_list.append(line.strip())\n",
    "    return city_list\n",
    "\n"
   ]
  },
  {
   "cell_type": "markdown",
   "metadata": {},
   "source": [
    "## Step 3: Problem Analysis for `is_a_city`\n",
    "\n",
    "Inputs: a string word and a Python list of cities\n",
    "\n",
    "Outputs: True or False when word is in the list of cities.\n",
    "\n",
    "Algorithm (Steps in Program): \n",
    "\n",
    "1. Define is_a_city(city,city_list)\n",
    "    \n",
    "    2. Try\n",
    "    \n",
    "        3. return True if index of city in city_list\n",
    "        \n",
    "        4. Except ValueError\n",
    "        \n",
    "            5. returns false\n",
    "\n"
   ]
  },
  {
   "cell_type": "code",
   "execution_count": 40,
   "metadata": {},
   "outputs": [],
   "source": [
    "## Step 4: write the definition for the is_a_city function\n",
    "def is_a_city(city,city_list):\n",
    "    try:\n",
    "        index = city_list.index(city)\n",
    "        return True\n",
    "    except ValueError:\n",
    "        return False"
   ]
  },
  {
   "cell_type": "markdown",
   "metadata": {},
   "source": [
    "## Step 5: Problem Analysis for entire program\n",
    "\n",
    "Inputs: A sample of text containing a city, or 'quit' \n",
    "\n",
    "Outputs: program outputs the phrase \"(item), is a city\" \n",
    "\n",
    "Algorithm (Steps in Program): (make sure to use the two functions we created)\n",
    "\n",
    "1. Use function load_city_corpus() to call file and add cities to list city_list\n",
    "\n",
    "2. Loop program indefinitely\n",
    "\n",
    "    3. Input text and assign to variable \"city\"; text is title cased\n",
    "    \n",
    "    4. Split city into a list and assign to variable \"city2\"\n",
    "    \n",
    "    5. For item in city2\n",
    "    \n",
    "        6. If return of function is_a_city(item,city_list) is True\n",
    "        \n",
    "            7. Print \"(item) is a city\"\n",
    "            \n",
    "    8. If input is \"quit\"\n",
    "    \n",
    "        9. Program prints \"Ending...\"\n",
    "        \n",
    "        10. Program breaks\n",
    "        "
   ]
  },
  {
   "cell_type": "code",
   "execution_count": 60,
   "metadata": {},
   "outputs": [
    {
     "name": "stdout",
     "output_type": "stream",
     "text": [
      "Enter some text (or type quit to quit):i love syracuse\n",
      "Syracuse is a city \n",
      "Enter some text (or type quit to quit):memphis looks fun\n",
      "Memphis is a city \n",
      "Enter some text (or type quit to quit):dallas and austin are in texas\n",
      "Dallas is a city \n",
      "Austin is a city \n",
      "Enter some text (or type quit to quit):quit\n",
      "Ending...\n"
     ]
    }
   ],
   "source": [
    "## Step 6: Write complete program, making sure to use your two functions.\n",
    "city_list = load_city_corpus()\n",
    "while True:    \n",
    "    city = input(\"Enter some text (or type quit to quit):\").title()\n",
    "    city2 = city.split(\" \")\n",
    "    for item in city2:\n",
    "        if is_a_city(item, city_list) == True:\n",
    "            print(item, \"is a city \")\n",
    "        else:\n",
    "            continue\n",
    "    if city == \"Quit\":\n",
    "        print('Ending...')\n",
    "        break\n"
   ]
  },
  {
   "cell_type": "markdown",
   "metadata": {
    "collapsed": true
   },
   "source": [
    "## Step 7: Questions\n",
    "\n",
    "1. Explain your approach to solving this problem for cities with 2 words like `New York` or `Los Angeles`?\n",
    "\n",
    "In order to solve this problem, I would focus on using specific if statements to narrow down words that start with common begginers of 2 word cities, such as \"New\", \"San\", and \"Los\". If the if statement detects any of these inputs in the list, then it will convert that word in the index and also the word after it into one item in the list, not two. This one item in the list will then be ran against the is_a_city(city,city_list) function to determine whether or not it is on our list city_list. For example, if the list we inputted contained ['I','Love','New','York'], then the program would recognize 'New' as one of our inputs clarified in the it statement, and it would pair that word with the following word in the list, in this case 'York'. Our updated list would look like ['I','Love','New York'].  \n",
    "\n",
    "\n",
    "\n",
    "2. How would you solve the problem where you enter a city name which is not in the corpus?\n",
    "\n",
    "If the city name is not in the corpus, we would have to create a seperate function that compares each item in the list city2 to each city listed on city_list. If each item comes back as not being on the list, the program would print(\"Please enter different output.\n"
   ]
  },
  {
   "cell_type": "markdown",
   "metadata": {
    "collapsed": true
   },
   "source": [
    "## Reminder of Evaluation Criteria\n",
    "\n",
    "1. What the problem attempted (analysis, code, and answered questions) ?\n",
    "2. What the problem analysis thought out? (does the program match the plan?)\n",
    "3. Does the code execute without syntax error?\n",
    "4. Does the code solve the intended problem?\n",
    "5. Is the code well written? (easy to understand, modular, and self-documenting, handles errors)\n"
   ]
  },
  {
   "cell_type": "code",
   "execution_count": null,
   "metadata": {},
   "outputs": [],
   "source": []
  }
 ],
 "metadata": {
  "anaconda-cloud": {},
  "kernelspec": {
   "display_name": "Python 3",
   "language": "python",
   "name": "python3"
  },
  "language_info": {
   "codemirror_mode": {
    "name": "ipython",
    "version": 3
   },
   "file_extension": ".py",
   "mimetype": "text/x-python",
   "name": "python",
   "nbconvert_exporter": "python",
   "pygments_lexer": "ipython3",
   "version": "3.6.3"
  }
 },
 "nbformat": 4,
 "nbformat_minor": 1
}
