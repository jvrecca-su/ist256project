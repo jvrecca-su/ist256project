{
 "cells": [
  {
   "cell_type": "markdown",
   "metadata": {},
   "source": [
    "# Now You Code 1: Hello 2 Ways\n",
    "\n",
    "Write a Python program which prompts you to input your first name and then your last name. It should then print your name two ways First Last and Last, First. For example:\n",
    "\n",
    "```\n",
    "What is your first name? Michael\n",
    "What is your last name? Fudge\n",
    "Hello, Michael Fudge\n",
    "Or should I say Fudge, Michael\n",
    "```\n"
   ]
  },
  {
   "cell_type": "markdown",
   "metadata": {
    "collapsed": true
   },
   "source": [
    "## Step 1: Problem Analysis\n",
    "\n",
    "Inputs: firstname, lastname\n",
    "\n",
    "Outputs:\"Hello, firstname, lastname\"\n",
    "\n",
    "Algorithm (Steps in Program):\n",
    "\n",
    "1.Input first name. ex: \"Joe\"\n",
    "2.Input last name. ex : \"Recca\"\n",
    "3.Computer displays: \"Hello, Joe Recca. Or should I say Recca, Joe\""
   ]
  },
  {
   "cell_type": "code",
   "execution_count": 5,
   "metadata": {},
   "outputs": [
    {
     "name": "stdout",
     "output_type": "stream",
     "text": [
      "What is your first name?Joe\n",
      "What is your last name?Recca\n",
      "Hello, Joe Recca.\n",
      "Or should I say Recca,Joe.\n"
     ]
    }
   ],
   "source": [
    "# Step 2: Write code here\n",
    "firstname = input(\"What is your first name?\")\n",
    "lastname = input(\"What is your last name?\")\n",
    "print(\"Hello,\", firstname,lastname + \".\")\n",
    "print(\"Or should I say\", lastname + \",\" + firstname + \".\")"
   ]
  },
  {
   "cell_type": "code",
   "execution_count": 6,
   "metadata": {},
   "outputs": [
    {
     "name": "stdout",
     "output_type": "stream",
     "text": [
      "What is your first name?Recca\n",
      "What is your last name?Joe\n",
      "Hello, Recca Joe.\n",
      "Or should I say Joe,Recca.\n"
     ]
    }
   ],
   "source": [
    "firstname = input(\"What is your first name?\")\n",
    "lastname = input(\"What is your last name?\")\n",
    "print(\"Hello,\", firstname,lastname + \".\")\n",
    "print(\"Or should I say\", lastname + \",\" + firstname + \".\")"
   ]
  },
  {
   "cell_type": "markdown",
   "metadata": {},
   "source": [
    "## Step 3: Questions\n",
    "\n",
    "1. What happens when don't follow the instructions and enter your first name as your last name? Does the code still run? Why?\n",
    "Yes, the code still runs because the computer was not told to differentiate betwen first and last names.\n",
    "\n",
    "2. What type of error it when the program runs but does not handle bad input?\n",
    "When the program cannot handle bad input, it is known as a logical error.\n",
    "\n",
    "3. Is there anything you can do in code to correct this type of error? Why or why not?\n",
    "One way to prevent a logic error is to write clear and concise code that is easy for the computer to understand. "
   ]
  },
  {
   "cell_type": "markdown",
   "metadata": {},
   "source": [
    "## Reminder of Evaluation Criteria\n",
    "\n",
    "1. What the problem attempted (analysis, code, and answered questions) ?\n",
    "2. What the problem analysis thought out? (does the program match the plan?)\n",
    "3. Does the code execute without syntax error?\n",
    "4. Does the code solve the intended problem?\n",
    "5. Is the code well written? (easy to understand, modular, and self-documenting, handles errors)\n"
   ]
  },
  {
   "cell_type": "code",
   "execution_count": null,
   "metadata": {
    "collapsed": true
   },
   "outputs": [],
   "source": []
  }
 ],
 "metadata": {
  "anaconda-cloud": {},
  "kernelspec": {
   "display_name": "Python 3",
   "language": "python",
   "name": "python3"
  },
  "language_info": {
   "codemirror_mode": {
    "name": "ipython",
    "version": 3
   },
   "file_extension": ".py",
   "mimetype": "text/x-python",
   "name": "python",
   "nbconvert_exporter": "python",
   "pygments_lexer": "ipython3",
   "version": "3.6.3"
  }
 },
 "nbformat": 4,
 "nbformat_minor": 1
}
