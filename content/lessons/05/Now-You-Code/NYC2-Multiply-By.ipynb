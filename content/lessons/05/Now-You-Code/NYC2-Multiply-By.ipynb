{
 "cells": [
  {
   "cell_type": "markdown",
   "metadata": {},
   "source": [
    "# Now You Code 2: Multiply By\n",
    "\n",
    "Write a program to ask for a number to multiply by and then lists the multiplication table for that number from 1 to 10. This process will repeat until you enter quit as which point the program will exit.\n",
    "\n",
    "Wow. Seems complicated! We'll use technique called problem simplification to make this problem a little easier to solve.\n",
    "\n",
    "First we'll write a complete program to solve *part* of the problem, then we will take our new level of understanding to solve the *entire* problem.\n",
    "\n",
    "## Start with Sub-Problem 1\n",
    "\n",
    "Let's write a program to simply input a number and then uses a loop to print out the multiplication table up to 10  for that number. \n",
    "\n",
    "For example, when you input `5`:\n",
    "\n",
    "```\n",
    "Enter number to multiply by: 5\n",
    "1 x 5 = 5\n",
    "2 x 5 = 10\n",
    "3 x 5 = 15\n",
    "4 x 5 = 20\n",
    "5 x 5 = 25\n",
    "6 x 5 = 30\n",
    "7 x 5 = 35\n",
    "8 x 5 = 40\n",
    "9 x 5 = 45\n",
    "10 x 5 = 50\n",
    "```\n"
   ]
  },
  {
   "cell_type": "markdown",
   "metadata": {
    "collapsed": true
   },
   "source": [
    "## Step 1: Problem Analysis for Sub-Problem 1\n",
    "\n",
    "Inputs:\n",
    "-number that you want to multiply\n",
    "\n",
    "Outputs:\n",
    "-multiplication set of 1-10 of our input\n",
    "\n",
    "Algorithm (Steps in Program):\n",
    "1.input number\n",
    "2.program loops until count reaches ten\n",
    "3.program calculates the multiple of 1-10 and our number input\n",
    "4.program breaks after input is multiplied by 10\n",
    "\n"
   ]
  },
  {
   "cell_type": "code",
   "execution_count": 4,
   "metadata": {},
   "outputs": [
    {
     "name": "stdout",
     "output_type": "stream",
     "text": [
      "Enter number to multiply by: 8\n",
      "1 x 8 = 8\n",
      "2 x 8 = 16\n",
      "3 x 8 = 24\n",
      "4 x 8 = 32\n",
      "5 x 8 = 40\n",
      "6 x 8 = 48\n",
      "7 x 8 = 56\n",
      "8 x 8 = 64\n",
      "9 x 8 = 72\n",
      "10 x 8 = 80\n"
     ]
    }
   ],
   "source": [
    "# Step 2: write code for sub-problem 1\n",
    "count = 0\n",
    "number = int(input(\"Enter number to multiply by: \"))\n",
    "while count < 10:\n",
    "    count = count + 1\n",
    "    total = count * number\n",
    "    print(count,\"x\", number,\"=\", total)\n",
    "    if count > 10:\n",
    "        break"
   ]
  },
  {
   "cell_type": "markdown",
   "metadata": {},
   "source": [
    "### Full Problem \n",
    "\n",
    "Now that we've got part of the problem figured out, let's solve the entire problem. The program should keep asking for numbers and then print out multiplcation tables until you enter `quit`. Here's an example:\n",
    "\n",
    "Example Run:\n",
    "\n",
    "```\n",
    "Enter number to multiply by or type 'quit': 10\n",
    "1 x 10 = 10\n",
    "2 x 10 = 20\n",
    "3 x 10 = 30\n",
    "4 x 10 = 40\n",
    "5 x 10 = 50\n",
    "6 x 10 = 60\n",
    "7 x 10 = 70\n",
    "8 x 10 = 80\n",
    "9 x 10 = 90\n",
    "10 x 10 = 100\n",
    "Enter number to multiply by or type 'quit': 5\n",
    "1 x 5 = 5\n",
    "2 x 5 = 10\n",
    "3 x 5 = 15\n",
    "4 x 5 = 20\n",
    "5 x 5 = 25\n",
    "6 x 5 = 30\n",
    "7 x 5 = 35\n",
    "8 x 5 = 40\n",
    "9 x 5 = 45\n",
    "10 x 5 = 50\n",
    "Enter number to multiply by or type 'quit': quit\n",
    "```\n",
    "\n",
    "**NOTE:** you need another loop complete this program. Take the code you wrote in the first part and repeat it in another loop until you type quit. "
   ]
  },
  {
   "cell_type": "markdown",
   "metadata": {
    "collapsed": true
   },
   "source": [
    "## Step 3: Problem Analysis for Full Problem\n",
    "\n",
    "Inputs:\n",
    "-number we want to multiply by\n",
    "-'quit'\n",
    "\n",
    "Outputs:\n",
    "-multiplication table of 1-10 of our number input\n",
    "-'End of simulation' if input is 'quit'\n",
    "\n",
    "Algorithm (Steps in Program):\n",
    "1.input number or 'quit'\n",
    "2.count of times number is multiplied starts at 0\n",
    "3.program loops until input is 'quit'\n",
    "4.program loops until count reaches ten\n",
    "5.program calculates the multiple of 1-10 and our number input\n",
    "6.program breaks after input is multiplied by 10"
   ]
  },
  {
   "cell_type": "code",
   "execution_count": 5,
   "metadata": {},
   "outputs": [
    {
     "name": "stdout",
     "output_type": "stream",
     "text": [
      "Enter number to multiply by or type 'quit': quit\n",
      "End of simulation\n"
     ]
    }
   ],
   "source": [
    "# Step 4: Write code for full problem\n",
    "while True:\n",
    "    count = 0\n",
    "    number = (input(\"Enter number to multiply by or type 'quit': \"))\n",
    "    if number == 'quit':\n",
    "        print(\"End of simulation\")\n",
    "        break\n",
    "    while count < 10:\n",
    "        count = count + 1\n",
    "        total = count * int(number)\n",
    "        print(count,\"x\", int(number),\"=\", total)\n",
    "        if count > 10:\n",
    "            break"
   ]
  },
  {
   "cell_type": "code",
   "execution_count": 6,
   "metadata": {},
   "outputs": [
    {
     "name": "stdout",
     "output_type": "stream",
     "text": [
      "Enter number to multiply by or type 'quit': 7\n",
      "1 x 7 = 7\n",
      "2 x 7 = 14\n",
      "3 x 7 = 21\n",
      "4 x 7 = 28\n",
      "5 x 7 = 35\n",
      "6 x 7 = 42\n",
      "7 x 7 = 49\n",
      "8 x 7 = 56\n",
      "9 x 7 = 63\n",
      "10 x 7 = 70\n",
      "Enter number to multiply by or type 'quit': 3\n",
      "1 x 3 = 3\n",
      "2 x 3 = 6\n",
      "3 x 3 = 9\n",
      "4 x 3 = 12\n",
      "5 x 3 = 15\n",
      "6 x 3 = 18\n",
      "7 x 3 = 21\n",
      "8 x 3 = 24\n",
      "9 x 3 = 27\n",
      "10 x 3 = 30\n",
      "Enter number to multiply by or type 'quit': 4\n",
      "1 x 4 = 4\n",
      "2 x 4 = 8\n",
      "3 x 4 = 12\n",
      "4 x 4 = 16\n",
      "5 x 4 = 20\n",
      "6 x 4 = 24\n",
      "7 x 4 = 28\n",
      "8 x 4 = 32\n",
      "9 x 4 = 36\n",
      "10 x 4 = 40\n",
      "Enter number to multiply by or type 'quit': quit\n",
      "End of simulation\n"
     ]
    }
   ],
   "source": [
    "# Step 4: Write code for full problem\n",
    "while True:\n",
    "    count = 0\n",
    "    number = (input(\"Enter number to multiply by or type 'quit': \"))\n",
    "    if number == 'quit':\n",
    "        print(\"End of simulation\")\n",
    "        break\n",
    "    while count < 10:\n",
    "        count = count + 1\n",
    "        total = count * int(number)\n",
    "        print(count,\"x\", int(number),\"=\", total)\n",
    "        if count > 10:\n",
    "            break"
   ]
  },
  {
   "cell_type": "markdown",
   "metadata": {},
   "source": [
    "## Step 3: Questions\n",
    "\n",
    "1. What is the loop control variable for the first (outer) loop?\n",
    "The loop control variable for the outer loop is 'quit'. If this is the input, then the outer loop will break.\n",
    "\n",
    "2. What is the loop control variable for the second (inner) loop?\n",
    "The loop control variable for the inner loop is when the count reaches ten. Once the count reaches ten, then the loop breaks.\n",
    "\n",
    "3. Provide at least one way this program can be improved, or make more flexible by introducing more inputs?\n",
    "You can improve this program by having multiple number inputs, one number to apply to the multiplication table, and another number to multiply that by. For example if I entered the number \"3\" and then the nuber \"7\", the program would do the multiplication table for \"3\" and then multiply the product of each number by \"7\""
   ]
  },
  {
   "cell_type": "markdown",
   "metadata": {},
   "source": [
    "## Reminder of Evaluation Criteria\n",
    "\n",
    "1. What the problem attempted (analysis, code, and answered questions) ?\n",
    "2. What the problem analysis thought out? (does the program match the plan?)\n",
    "3. Does the code execute without syntax error?\n",
    "4. Does the code solve the intended problem?\n",
    "5. Is the code well written? (easy to understand, modular, and self-documenting, handles errors)\n"
   ]
  },
  {
   "cell_type": "code",
   "execution_count": null,
   "metadata": {
    "collapsed": true
   },
   "outputs": [],
   "source": []
  }
 ],
 "metadata": {
  "anaconda-cloud": {},
  "kernelspec": {
   "display_name": "Python 3",
   "language": "python",
   "name": "python3"
  },
  "language_info": {
   "codemirror_mode": {
    "name": "ipython",
    "version": 3
   },
   "file_extension": ".py",
   "mimetype": "text/x-python",
   "name": "python",
   "nbconvert_exporter": "python",
   "pygments_lexer": "ipython3",
   "version": "3.6.3"
  }
 },
 "nbformat": 4,
 "nbformat_minor": 1
}
